{
 "cells": [
  {
   "cell_type": "code",
   "execution_count": 2,
   "metadata": {
    "executionInfo": {
     "elapsed": 10,
     "status": "ok",
     "timestamp": 1743317704020,
     "user": {
      "displayName": "Diana Patricia Madera Esp\u00edndola",
      "userId": "01942114537042407486"
     },
     "user_tz": 360
    },
    "id": "mEl8taNDy4Ju"
   },
   "outputs": [],
   "source": [
    "import pandas as pd\n",
    "import transformers"
   ]
  },
  {
   "cell_type": "markdown",
   "metadata": {
    "id": "U72ULHQKzw8B"
   },
   "source": [
    "## Reading dataset"
   ]
  },
  {
   "cell_type": "code",
   "execution_count": null,
   "metadata": {
    "executionInfo": {
     "elapsed": 1420,
     "status": "ok",
     "timestamp": 1743317705451,
     "user": {
      "displayName": "Diana Patricia Madera Esp\u00edndola",
      "userId": "01942114537042407486"
     },
     "user_tz": 360
    },
    "id": "E3J7vaA5zODI"
   },
   "outputs": [],
   "source": [
    "file_path= 'dataset_merged_iberlef.csv'\n",
    "df= pd.read_csv(file_path)\n",
    "# Filter by train dataset\n",
    "train_df = df[df['source'] == 'train']\n",
    "# Filter by dev dataset\n",
    "dev_df = df[df['source'] == 'dev']"
   ]
  },
  {
   "cell_type": "markdown",
   "metadata": {
    "id": "22B1sQyqz1f7"
   },
   "source": [
    "## Binary Classification"
   ]
  },
  {
   "cell_type": "code",
   "execution_count": 4,
   "metadata": {
    "executionInfo": {
     "elapsed": 2,
     "status": "ok",
     "timestamp": 1743317705459,
     "user": {
      "displayName": "Diana Patricia Madera Esp\u00edndola",
      "userId": "01942114537042407486"
     },
     "user_tz": 360
    },
    "id": "hsrAG0qRz0hP"
   },
   "outputs": [],
   "source": [
    "target_names= ['0','1']\n",
    "class_names= ['Not Hope','Hope']"
   ]
  },
  {
   "cell_type": "code",
   "execution_count": 5,
   "metadata": {
    "executionInfo": {
     "elapsed": 67,
     "status": "ok",
     "timestamp": 1743317705528,
     "user": {
      "displayName": "Diana Patricia Madera Esp\u00edndola",
      "userId": "01942114537042407486"
     },
     "user_tz": 360
    },
    "id": "nZOomvtjz6Lx"
   },
   "outputs": [],
   "source": [
    "def map_label(row):\n",
    "    if row['binary']=='Not Hope':\n",
    "        return 0\n",
    "    elif row['binary']=='Hope':\n",
    "        return 1\n",
    "\n",
    "train_df = train_df.assign(label= train_df.apply(map_label, axis=1))\n",
    "dev_df = dev_df.assign(label= dev_df.apply(map_label, axis=1))"
   ]
  },
  {
   "cell_type": "code",
   "execution_count": 7,
   "metadata": {
    "executionInfo": {
     "elapsed": 28666,
     "status": "ok",
     "timestamp": 1743317745693,
     "user": {
      "displayName": "Diana Patricia Madera Esp\u00edndola",
      "userId": "01942114537042407486"
     },
     "user_tz": 360
    },
    "id": "r9YgJx70z8aY"
   },
   "outputs": [],
   "source": [
    "from simpletransformers.classification import ClassificationModel\n",
    "\n",
    "\n",
    "from simpletransformers.classification import (\n",
    "    MultiLabelClassificationModel, MultiLabelClassificationArgs\n",
    ")\n",
    "import logging\n",
    "\n",
    "\n",
    "logging.basicConfig(level=logging.INFO)\n",
    "transformers_logger = logging.getLogger(\"transformers\")\n",
    "transformers_logger.setLevel(logging.WARNING)"
   ]
  },
  {
   "cell_type": "code",
   "execution_count": null,
   "metadata": {
    "executionInfo": {
     "elapsed": 9,
     "status": "ok",
     "timestamp": 1743317745714,
     "user": {
      "displayName": "Diana Patricia Madera Esp\u00edndola",
      "userId": "01942114537042407486"
     },
     "user_tz": 360
    },
    "id": "I5rRQLkF0WB7"
   },
   "outputs": [],
   "source": [
    "def run_ModelTransformer(transformermodel, train, test):\n",
    "    # Create training data in the correct format for SimpleTransformers\n",
    "    train_df = pd.DataFrame({\n",
    "        'text': train['clean_text'],\n",
    "        'labels': train['label']\n",
    "    })\n",
    "\n",
    "    # Ensure labels are integers (needed for SimpleTransformers)\n",
    "    train_df['labels'] = train_df['labels'].astype(int)\n",
    "\n",
    "    # Creating a DataFrame with just the text\n",
    "    test_df = pd.DataFrame({\n",
    "        'text': test['clean_text']\n",
    "    })\n",
    "\n",
    "\n",
    "    # Create a TransformerModel\n",
    "    model = ClassificationModel(\n",
    "        transformermodel[0],\n",
    "        transformermodel[1],\n",
    "        num_labels=2,\n",
    "        use_cuda=True,\n",
    "        ignore_mismatched_sizes=True,\n",
    "        args={\n",
    "            'num_train_epochs': 3,\n",
    "            'learning_rate': 1e-5,\n",
    "            'max_seq_length': 64,\n",
    "            'use_multiprocessing': False,\n",
    "            'use_multiprocessing_for_evaluation': False,\n",
    "            'overwrite_output_dir': True\n",
    "        }\n",
    "    )\n",
    "\n",
    "    # Train the model with the properly formatted DataFrame\n",
    "    model.train_model(train_df)\n",
    "\n",
    "    # For unlabeled test data, use predict method\n",
    "    predictions, raw_outputs = model.predict(test_df['text'].tolist())\n",
    "\n",
    "    # Save predictions to the original test DataFrame and export\n",
    "    test['predicted'] = predictions\n",
    "    test.to_csv('predictions_binary_iberlef.csv', index=None)\n",
    "\n",
    "    # Output information about the prediction process\n",
    "    print(\"Predictions completed\")\n",
    "    print(f\"Predicted {len(predictions)} samples.\")\n",
    "\n",
    "    # Return the predictions\n",
    "    return {\n",
    "        'predictions': predictions\n",
    "    }"
   ]
  },
  {
   "cell_type": "code",
   "execution_count": null,
   "metadata": {
    "colab": {
     "base_uri": "https://localhost:8080/",
     "height": 665,
     "referenced_widgets": [
      "57bd4c37dd8449a6adbb67c2e0184dc9",
      "87cb7dfd50804c6992a6d759c921e865",
      "701ba60bb1754f048f619dcaa3c7fa19",
      "9cfe745b6e414f3f873ddcdd7cd2bf83",
      "91b4136f528f46e39bcb3ad3c490fcd4",
      "91354af228604a92838f9bbf7c7a6bbe",
      "f8fca5a6fcb94a2cb8872bbac2331d64",
      "e3ffd4d454f941dea8388580dc5a9ee2",
      "98632e743f4a4d68b3c0720e2fde14af",
      "3ede316b2d994049b1761c1ea463d3fe",
      "fa95cd42b56d4483b3a94fd0bcbf2991",
      "16181f8b2d924b8ebc1ec6266c64b88a",
      "725104c74f16419e84b85496ee91f2d5",
      "5ffb603e6b004d5ba0831ef1fed98a3a",
      "6e8f4b5c6af64831b47c63fe6b64381e",
      "cb8ea0e9753c4f789730391d597796b9",
      "aa899092582b400087c654f839de5480",
      "14bc1cba786b4eb1ba12e52a32ea0e8d",
      "5f2370ee6b9d463989f257b732a32800",
      "22ca86f0abcc4194ad0af449be8847cf",
      "d18d5a0a2f954e0399a509cdfcf3918c",
      "dc340425dc0c40458a117453735c598b",
      "61d88376e6674a009c7ca4067a835247",
      "f335e4f972694e12983e0d62edab3ec8",
      "aedb28a1e457400681dfe4cb49fb0d5e",
      "e20b6ee156b945a590ec87f8b058f018",
      "ffee62bdfbb2402083a689e05dbed4b3",
      "ad2a7591c336408480e201e770127e70",
      "ff142a92660a4cf79c2b3f51a025c763",
      "fc0f98346ce049f9981842d9c7193ddc",
      "adb3fd485b6e44a8b0b3a7666fa23025",
      "81d799c906924591ad6951951ba48d37",
      "25be88a1a1e247df9e255c6bc770a606",
      "c99540910bf84f3089c9165aeebb898b",
      "ad32b7cfb9eb4aa08f4186d04454e58d",
      "a9f08c58b504457ca2b14aee1438f594",
      "880504bbc1184b63bf1f4915365fec0c",
      "9f54f2305dff4f9593b732f58bded462",
      "3a1f0cb41a294fab91bc409b13829f3f",
      "325104460572429b8d9ad62cdbaed9c7",
      "356532f288874424a974fa96b3a149cc",
      "36d9c4fd93e94dc8af76fc6ffe064d5f",
      "82e6d9b81d7b44c8aa495c12543f5ec7",
      "5ad766aeddbc4fda8a0d11c9f0fb3910",
      "d604570a4718427ea844eaec8d5dea9a",
      "31fd08322015459aa153177049fad926",
      "cb5d486af37e413d8635133df8892618",
      "a387b34ba5da4b41abe824afcedc5340",
      "fefc603c9b7d4c17a8e8708e1dd9fdc9",
      "271df55e769b4c8cb532584b35f574ac",
      "0f04636ccb244d96b535bc710e4bb836",
      "56e3dc9da6c74f4aa87304d8e1b71ea4",
      "b463578e30104b3f919cacfd28edbc85",
      "763ff653befd4ade9f7da5ccda3de1ac",
      "a6d36de8d8d840659b9fd47b0cf8fd50",
      "7384fca10e4340e3884274bcd829d180",
      "22da4e9b1ada466694698d4ca6640a46",
      "0ebcc2e49ff24c1b817e1a322a44186c",
      "b657a5bd7a2a4d19b5556ff029de00fb",
      "37e635d085b34d0fb2cc4bc6561b2ad3",
      "9c1ba74b268145e4b4d3c5e25d2dd4f7",
      "6f3a78951c48434b8016dc8c574c9074",
      "1a81139c120a49e1af844ad190ee515c",
      "d5442c8b19a942a88f545a6a6bfef536",
      "cf636e475cf24e168558be18a6eef0d3",
      "f5c356b66d3a46a5b2cca065410a8671",
      "c3f204fdc6784c8ea615f0cd282d2b8f",
      "3ed44b583a554374bda22e25eddec69c",
      "aae205d539534ebfa48bcc91da9a36ee",
      "159fc1a1d4fa41a2b7a7dd50999e12e5",
      "a23e73b3c1524aef98abf22fc31f4b6f",
      "d30fe80cae8d4291bbadf46e3de1832a",
      "a281d4a6425f42469273bb055f7f0f82",
      "3fda104fdd0e435aa23c0ae3aa3003bb",
      "289a04b6b1414f71979ab853882f62cc",
      "14dcaccefe5249c1900eb47fbe8093a4",
      "78b3081e74d94c248ec476601d9ba6c3",
      "8685e09e18c54201b1c5f28736239817",
      "dc50cf51a7f346409cb0dadd668bc374",
      "981e455d3dc441fcb3ccf6e387f7b4ef",
      "77adbeba25e2453788ee41b96abdef3e",
      "0b0d011373b4454fb85cea0dc6a09219",
      "e1d2d797782c4278a0c52e6db84e0edc",
      "5d87966a40a9460891735d61a7aa7567",
      "821dfd0579f545b9bce01215e2eb9718",
      "1a823b4028844cc7980a79ef4c1290e3",
      "58c0d7a7acf545669908aedc67c9eff7",
      "8f63d9f560e749fdba0aac367fd68321",
      "f59c17a2dcae478f912a76591655110c",
      "9652cad37782489a9b69d0bbc6b80102",
      "06ec98526d3e4109bb87a5f1eaf04975",
      "dd60ce617adf46e992b21d07d13d0463",
      "ecfe422eb2164b2f91af8acddc57be60",
      "5b12885f2e194787a1170fae06d3fdc4",
      "9962fabe0eb24a0f8d6003f63e5451c4",
      "03a09d9dd02742e1aa226e866d08800c",
      "3ce1929e5721495b8bbf62884edd56d2",
      "146c042fdf694127a2e3966aed19f42d",
      "87c1f113f0ee46758c0265c2608c6ad6",
      "1f4ef229cf6d4f0a91cbb1d4d9de1a83",
      "5bb943e922e44b5db209e83ad6498589",
      "326996860cf3478aa62685d60b70c8a9",
      "e202e5cdeb3e4a1386d57c7869915b1e",
      "aaa8745666ce48a9a22c8ca3818184d7",
      "3de0d73d4bce47aa882cef9773da75dd",
      "9666f70e16bf4919a30bbc4ed4cfcdb1",
      "b9349c707ae548db9bfa5edb2a4be6fa",
      "17601724b2bc498d869e29f8942767c3",
      "4fd894412b1241d18193dc1058e309fe",
      "721e9042e1364816a281c3817b3c6880"
     ]
    },
    "executionInfo": {
     "elapsed": 3086010,
     "status": "ok",
     "timestamp": 1743320831726,
     "user": {
      "displayName": "Diana Patricia Madera Esp\u00edndola",
      "userId": "01942114537042407486"
     },
     "user_tz": 360
    },
    "id": "WApXT6ZJ0ZKo",
    "outputId": "60bd2cce-a65e-47a5-91c9-219dc8bcedf3"
   },
   "outputs": [
    {
     "name": "stderr",
     "output_type": "stream",
     "text": [
      "/usr/local/lib/python3.11/dist-packages/huggingface_hub/utils/_auth.py:94: UserWarning: \n",
      "The secret `HF_TOKEN` does not exist in your Colab secrets.\n",
      "To authenticate with the Hugging Face Hub, create a token in your settings tab (https://huggingface.co/settings/tokens), set it as secret in your Google Colab and restart your session.\n",
      "You will be able to reuse this secret in all of your notebooks.\n",
      "Please note that authentication is recommended but still optional to access public models or datasets.\n",
      "  warnings.warn(\n"
     ]
    },
    {
     "data": {
      "application/vnd.jupyter.widget-view+json": {
       "model_id": "57bd4c37dd8449a6adbb67c2e0184dc9",
       "version_major": 2,
       "version_minor": 0
      },
      "text/plain": [
       "config.json:   0%|          | 0.00/616 [00:00<?, ?B/s]"
      ]
     },
     "metadata": {},
     "output_type": "display_data"
    },
    {
     "data": {
      "application/vnd.jupyter.widget-view+json": {
       "model_id": "16181f8b2d924b8ebc1ec6266c64b88a",
       "version_major": 2,
       "version_minor": 0
      },
      "text/plain": [
       "model.safetensors:   0%|          | 0.00/2.24G [00:00<?, ?B/s]"
      ]
     },
     "metadata": {},
     "output_type": "display_data"
    },
    {
     "name": "stderr",
     "output_type": "stream",
     "text": [
      "Some weights of XLMRobertaForSequenceClassification were not initialized from the model checkpoint at xlm-roberta-large and are newly initialized: ['classifier.dense.bias', 'classifier.dense.weight', 'classifier.out_proj.bias', 'classifier.out_proj.weight']\n",
      "You should probably TRAIN this model on a down-stream task to be able to use it for predictions and inference.\n"
     ]
    },
    {
     "data": {
      "application/vnd.jupyter.widget-view+json": {
       "model_id": "61d88376e6674a009c7ca4067a835247",
       "version_major": 2,
       "version_minor": 0
      },
      "text/plain": [
       "tokenizer_config.json:   0%|          | 0.00/25.0 [00:00<?, ?B/s]"
      ]
     },
     "metadata": {},
     "output_type": "display_data"
    },
    {
     "data": {
      "application/vnd.jupyter.widget-view+json": {
       "model_id": "c99540910bf84f3089c9165aeebb898b",
       "version_major": 2,
       "version_minor": 0
      },
      "text/plain": [
       "sentencepiece.bpe.model:   0%|          | 0.00/5.07M [00:00<?, ?B/s]"
      ]
     },
     "metadata": {},
     "output_type": "display_data"
    },
    {
     "data": {
      "application/vnd.jupyter.widget-view+json": {
       "model_id": "d604570a4718427ea844eaec8d5dea9a",
       "version_major": 2,
       "version_minor": 0
      },
      "text/plain": [
       "tokenizer.json:   0%|          | 0.00/9.10M [00:00<?, ?B/s]"
      ]
     },
     "metadata": {},
     "output_type": "display_data"
    },
    {
     "data": {
      "application/vnd.jupyter.widget-view+json": {
       "model_id": "7384fca10e4340e3884274bcd829d180",
       "version_major": 2,
       "version_minor": 0
      },
      "text/plain": [
       "Epoch:   0%|          | 0/3 [00:00<?, ?it/s]"
      ]
     },
     "metadata": {},
     "output_type": "display_data"
    },
    {
     "name": "stderr",
     "output_type": "stream",
     "text": [
      "/usr/local/lib/python3.11/dist-packages/simpletransformers/classification/classification_model.py:882: FutureWarning: `torch.cuda.amp.GradScaler(args...)` is deprecated. Please use `torch.amp.GradScaler('cuda', args...)` instead.\n",
      "  scaler = amp.GradScaler()\n"
     ]
    },
    {
     "data": {
      "application/vnd.jupyter.widget-view+json": {
       "model_id": "c3f204fdc6784c8ea615f0cd282d2b8f",
       "version_major": 2,
       "version_minor": 0
      },
      "text/plain": [
       "Running Epoch 1 of 3:   0%|          | 0/2661 [00:00<?, ?it/s]"
      ]
     },
     "metadata": {},
     "output_type": "display_data"
    },
    {
     "name": "stderr",
     "output_type": "stream",
     "text": [
      "/usr/local/lib/python3.11/dist-packages/simpletransformers/classification/classification_model.py:905: FutureWarning: `torch.cuda.amp.autocast(args...)` is deprecated. Please use `torch.amp.autocast('cuda', args...)` instead.\n",
      "  with amp.autocast():\n"
     ]
    },
    {
     "data": {
      "application/vnd.jupyter.widget-view+json": {
       "model_id": "8685e09e18c54201b1c5f28736239817",
       "version_major": 2,
       "version_minor": 0
      },
      "text/plain": [
       "Running Epoch 2 of 3:   0%|          | 0/2661 [00:00<?, ?it/s]"
      ]
     },
     "metadata": {},
     "output_type": "display_data"
    },
    {
     "data": {
      "application/vnd.jupyter.widget-view+json": {
       "model_id": "f59c17a2dcae478f912a76591655110c",
       "version_major": 2,
       "version_minor": 0
      },
      "text/plain": [
       "Running Epoch 3 of 3:   0%|          | 0/2661 [00:00<?, ?it/s]"
      ]
     },
     "metadata": {},
     "output_type": "display_data"
    },
    {
     "data": {
      "application/vnd.jupyter.widget-view+json": {
       "model_id": "1f4ef229cf6d4f0a91cbb1d4d9de1a83",
       "version_major": 2,
       "version_minor": 0
      },
      "text/plain": [
       "  0%|          | 0/75 [00:00<?, ?it/s]"
      ]
     },
     "metadata": {},
     "output_type": "display_data"
    },
    {
     "name": "stderr",
     "output_type": "stream",
     "text": [
      "/usr/local/lib/python3.11/dist-packages/simpletransformers/classification/classification_model.py:2188: FutureWarning: `torch.cuda.amp.autocast(args...)` is deprecated. Please use `torch.amp.autocast('cuda', args...)` instead.\n",
      "  with amp.autocast():\n"
     ]
    },
    {
     "name": "stdout",
     "output_type": "stream",
     "text": [
      "Predictions completed for unlabeled test data.\n",
      "Predicted 7491 samples.\n"
     ]
    },
    {
     "data": {
      "text/plain": [
       "{'predictions': array([1, 0, 0, ..., 1, 1, 1])}"
      ]
     },
     "execution_count": 10,
     "metadata": {},
     "output_type": "execute_result"
    }
   ],
   "source": [
    "run_ModelTransformer(['auto', 'xlm-roberta-large'],train_df, dev_df)"
   ]
  }
 ],
 "metadata": {
  "accelerator": "GPU",
  "colab": {
   "authorship_tag": "ABX9TyOxW72EbKLYPYTUdx0J8x/j",
   "gpuType": "T4",
   "mount_file_id": "1loSY8Fsoj7BGy0glZF1CXkFq2Cf1xxFZ",
   "provenance": []
  },
  "kernelspec": {
   "display_name": "Python 3",
   "name": "python3"
  },
  "language_info": {
   "name": "python"
  }
 },
 "nbformat": 4,
 "nbformat_minor": 0
}